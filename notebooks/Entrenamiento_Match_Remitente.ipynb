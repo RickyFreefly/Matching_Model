{
 "cells": [
  {
   "cell_type": "code",
   "execution_count": 6,
   "metadata": {},
   "outputs": [],
   "source": [
    "from datetime import datetime\n",
    "import joblib\n",
    "from sklearn.ensemble import RandomForestRegressor\n",
    "from sklearn.preprocessing import MinMaxScaler"
   ]
  },
  {
   "cell_type": "markdown",
   "metadata": {},
   "source": [
    "## 1. Clase de datos y función de extracción de características"
   ]
  },
  {
   "cell_type": "code",
   "execution_count": 7,
   "metadata": {},
   "outputs": [],
   "source": [
    "class DatosRemitenteViaje:\n",
    "    def __init__(self, encomienda, viaje):\n",
    "        self.encomienda = encomienda\n",
    "        self.viaje = viaje\n",
    "        self.origen_match = 1 if encomienda[\"ciudadOrigen\"] == viaje[\"ciudadOrigen\"] else 0\n",
    "        self.destino_match = 1 if encomienda[\"ciudadDestino\"] == viaje[\"ciudadDestino\"] else 0\n",
    "        fecha_encomienda = datetime.fromisoformat(encomienda[\"fechaEncomienda\"])\n",
    "        fecha_viaje = datetime.fromisoformat(viaje[\"fechaViaje\"])\n",
    "        self.dias_diferencia = abs((fecha_viaje - fecha_encomienda).days)\n",
    "\n",
    "def preparar_features_remitente(datos):\n",
    "    return [\n",
    "        datos.origen_match,\n",
    "        datos.destino_match,\n",
    "        datos.dias_diferencia\n",
    "    ]"
   ]
  },
  {
   "cell_type": "markdown",
   "metadata": {},
   "source": [
    "## 2. Dataset de entrenamiento simulado"
   ]
  },
  {
   "cell_type": "code",
   "execution_count": 8,
   "metadata": {},
   "outputs": [],
   "source": [
    "data = [\n",
    "    ({\n",
    "        \"ciudadOrigen\": \"Bogotá\",\n",
    "        \"ciudadDestino\": \"Medellín\",\n",
    "        \"fechaEncomienda\": \"2025-05-20\"\n",
    "    }, {\n",
    "        \"ciudadOrigen\": \"Bogotá\",\n",
    "        \"ciudadDestino\": \"Medellín\",\n",
    "        \"fechaViaje\": \"2025-05-21\"\n",
    "    }, 1.0),\n",
    "\n",
    "    ({\n",
    "        \"ciudadOrigen\": \"Bogotá\",\n",
    "        \"ciudadDestino\": \"Cali\",\n",
    "        \"fechaEncomienda\": \"2025-05-20\"\n",
    "    }, {\n",
    "        \"ciudadOrigen\": \"Bogotá\",\n",
    "        \"ciudadDestino\": \"Medellín\",\n",
    "        \"fechaViaje\": \"2025-05-30\"\n",
    "    }, 0.4)\n",
    "]"
   ]
  },
  {
   "cell_type": "markdown",
   "metadata": {},
   "source": [
    "## 3. Preparación de datos y entrenamiento"
   ]
  },
  {
   "cell_type": "code",
   "execution_count": 9,
   "metadata": {},
   "outputs": [
    {
     "data": {
      "text/plain": [
       "['scaler_remitente.pkl']"
      ]
     },
     "execution_count": 9,
     "metadata": {},
     "output_type": "execute_result"
    }
   ],
   "source": [
    "X, y = [], []\n",
    "for encomienda, viaje, afinidad in data:\n",
    "    datos = DatosRemitenteViaje(encomienda, viaje)\n",
    "    X.append(preparar_features_remitente(datos))\n",
    "    y.append(afinidad)\n",
    "\n",
    "scaler = MinMaxScaler()\n",
    "X_scaled = scaler.fit_transform(X)\n",
    "\n",
    "modelo = RandomForestRegressor(n_estimators=100, random_state=42)\n",
    "modelo.fit(X_scaled, y)\n",
    "\n",
    "joblib.dump(modelo, \"modelo_remitente.pkl\")\n",
    "joblib.dump(scaler, \"scaler_remitente.pkl\")"
   ]
  },
  {
   "cell_type": "markdown",
   "metadata": {},
   "source": [
    "## 4. Predicción de prueba"
   ]
  },
  {
   "cell_type": "code",
   "execution_count": 10,
   "metadata": {},
   "outputs": [
    {
     "name": "stdout",
     "output_type": "stream",
     "text": [
      "🔍 Afinidad estimada: 0.868\n"
     ]
    }
   ],
   "source": [
    "nueva_encomienda = {\n",
    "    \"ciudadOrigen\": \"Bogotá\",\n",
    "    \"ciudadDestino\": \"Medellín\",\n",
    "    \"fechaEncomienda\": \"2025-05-20\"\n",
    "}\n",
    "nuevo_viaje = {\n",
    "    \"ciudadOrigen\": \"Bogotá\",\n",
    "    \"ciudadDestino\": \"Medellín\",\n",
    "    \"fechaViaje\": \"2025-05-21\"\n",
    "}\n",
    "\n",
    "datos_nuevos = DatosRemitenteViaje(nueva_encomienda, nuevo_viaje)\n",
    "features_nuevas = preparar_features_remitente(datos_nuevos)\n",
    "scaled = scaler.transform([features_nuevas])\n",
    "pred = modelo.predict(scaled)\n",
    "\n",
    "print(\"🔍 Afinidad estimada:\", round(float(pred[0]), 3))"
   ]
  }
 ],
 "metadata": {
  "kernelspec": {
   "display_name": ".venv",
   "language": "python",
   "name": "python3"
  },
  "language_info": {
   "codemirror_mode": {
    "name": "ipython",
    "version": 3
   },
   "file_extension": ".py",
   "mimetype": "text/x-python",
   "name": "python",
   "nbconvert_exporter": "python",
   "pygments_lexer": "ipython3",
   "version": "3.12.6"
  }
 },
 "nbformat": 4,
 "nbformat_minor": 5
}

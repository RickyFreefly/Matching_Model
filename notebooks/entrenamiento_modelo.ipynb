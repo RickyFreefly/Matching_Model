{
 "cells": [
  {
   "cell_type": "code",
   "execution_count": 3,
   "id": "5885a922",
   "metadata": {},
   "outputs": [
    {
     "data": {
      "text/plain": [
       "['../modelo/modelo_entrenado.pkl']"
      ]
     },
     "execution_count": 3,
     "metadata": {},
     "output_type": "execute_result"
    }
   ],
   "source": [
    "from xgboost import XGBClassifier\n",
    "from sklearn.model_selection import train_test_split\n",
    "import joblib\n",
    "import pandas as pd\n",
    "\n",
    "# Simulación de datos\n",
    "df = pd.DataFrame({\n",
    "    'origen_match': [1, 0, 1],\n",
    "    'destino_match': [1, 1, 0],\n",
    "    'días_diferencia': [2, 5, 1],\n",
    "    'valor_encomienda': [150, 80, 250],\n",
    "    'reputación_viajero': [4.8, 3.5, 5.0],\n",
    " #   'peso_encomienda': [2.0, 1.5, 5.0],\n",
    "    'match': [1, 0, 1]  # Etiqueta\n",
    "})\n",
    "\n",
    "X = df.drop('match', axis=1)\n",
    "y = df['match']\n",
    "\n",
    "model = XGBClassifier()\n",
    "model.fit(X, y)\n",
    "\n",
    "joblib.dump(model, '../modelo/modelo_entrenado.pkl')\n"
   ]
  },
  {
   "cell_type": "code",
   "execution_count": 4,
   "id": "fee1a0b6",
   "metadata": {},
   "outputs": [
    {
     "data": {
      "text/plain": [
       "['../modelo/modelo_entrenado.pkl']"
      ]
     },
     "execution_count": 4,
     "metadata": {},
     "output_type": "execute_result"
    }
   ],
   "source": [
    "from xgboost import XGBClassifier\n",
    "from sklearn.model_selection import train_test_split\n",
    "import joblib\n",
    "import pandas as pd\n",
    "\n",
    "# Simulación de datos\n",
    "df = pd.DataFrame({\n",
    "    'origen_match': [1, 0, 1],\n",
    "    'destino_match': [1, 1, 0],\n",
    "    'días_diferencia': [2, 5, 1],\n",
    "    'valor_encomienda': [150, 80, 250],\n",
    "    'reputación_viajero': [4.8, 3.5, 5.0],\n",
    " #   'peso_encomienda': [2.0, 1.5, 5.0],\n",
    "    'match': [1, 0, 1]  # Etiqueta\n",
    "})\n",
    "\n",
    "X = df.drop('match', axis=1)\n",
    "y = df['match']\n",
    "\n",
    "model = XGBClassifier()\n",
    "model.fit(X, y)\n",
    "\n",
    "joblib.dump(model, '../modelo/modelo_entrenado.pkl')\n"
   ]
  },
  {
   "cell_type": "code",
   "execution_count": 5,
   "id": "61b4f356",
   "metadata": {},
   "outputs": [
    {
     "data": {
      "text/plain": [
       "['../modelo/modelo_entrenado.pkl']"
      ]
     },
     "execution_count": 5,
     "metadata": {},
     "output_type": "execute_result"
    }
   ],
   "source": [
    "\n",
    "from xgboost import XGBClassifier\n",
    "from sklearn.model_selection import train_test_split\n",
    "import joblib\n",
    "import pandas as pd\n",
    "\n",
    "# Simulación de datos\n",
    "df = pd.DataFrame({\n",
    "    'origen_match': [1, 0, 1],\n",
    "    'destino_match': [1, 1, 0],\n",
    "    'días_diferencia': [2, 5, 1],\n",
    "    'valor_encomienda': [150, 80, 250],\n",
    " #    'reputación_viajero': [4.8, 3.5, 5.0],\n",
    "    'peso_encomienda': [2.0, 1.5, 5.0],\n",
    "    'match': [1, 0, 1]  # Etiqueta\n",
    "})\n",
    "\n",
    "X = df.drop('match', axis=1)\n",
    "y = df['match']\n",
    "\n",
    "model = XGBClassifier()\n",
    "model.fit(X, y)\n",
    "\n",
    "joblib.dump(model, '../modelo/modelo_entrenado.pkl')\n"
   ]
  },
  {
   "cell_type": "code",
   "execution_count": 6,
   "id": "485c2843",
   "metadata": {},
   "outputs": [
    {
     "data": {
      "text/plain": [
       "['../modelo/modelo_entrenado.pkl']"
      ]
     },
     "execution_count": 6,
     "metadata": {},
     "output_type": "execute_result"
    }
   ],
   "source": [
    "\n",
    "from xgboost import XGBClassifier\n",
    "from sklearn.model_selection import train_test_split\n",
    "import joblib\n",
    "import pandas as pd\n",
    "\n",
    "# Simulación de datos\n",
    "df = pd.DataFrame({\n",
    "    'origen_match': [1, 0, 1],\n",
    "    'destino_match': [1, 1, 0],\n",
    "    'días_diferencia': [2, 5, 1],\n",
    "    'valor_encomienda': [150, 80, 250],\n",
    "    'reputación_viajero': [4.8, 3.5, 5.0],\n",
    " #   'peso_encomienda': [2.0, 1.5, 5.0],\n",
    "    'match': [1, 0, 1]  # Etiqueta\n",
    "})\n",
    "\n",
    "X = df.drop('match', axis=1)\n",
    "y = df['match']\n",
    "\n",
    "model = XGBClassifier()\n",
    "model.fit(X, y)\n",
    "\n",
    "joblib.dump(model, '../modelo/modelo_entrenado.pkl')\n"
   ]
  },
  {
   "cell_type": "code",
   "execution_count": 7,
   "id": "d183d468",
   "metadata": {},
   "outputs": [
    {
     "data": {
      "text/plain": [
       "['../modelo/modelo_entrenado.pkl']"
      ]
     },
     "execution_count": 7,
     "metadata": {},
     "output_type": "execute_result"
    }
   ],
   "source": [
    "\n",
    "from xgboost import XGBClassifier\n",
    "from sklearn.model_selection import train_test_split\n",
    "import joblib\n",
    "import pandas as pd\n",
    "\n",
    "# Simulación de datos\n",
    "df = pd.DataFrame({\n",
    "    'origen_match': [1, 0, 1],\n",
    "    'destino_match': [1, 1, 0],\n",
    "    'días_diferencia': [2, 5, 1],\n",
    "    'valor_encomienda': [150, 80, 250],\n",
    "    'reputación_viajero': [4.8, 3.5, 5.0],\n",
    "#    'peso_encomienda': [2.0, 1.5, 5.0],\n",
    "    'match': [1, 0, 1]  # Etiqueta\n",
    "})\n",
    "\n",
    "X = df.drop('match', axis=1)\n",
    "y = df['match']\n",
    "\n",
    "model = XGBClassifier()\n",
    "model.fit(X, y)\n",
    "\n",
    "joblib.dump(model, '../modelo/modelo_entrenado.pkl')\n"
   ]
  }
 ],
 "metadata": {
  "kernelspec": {
   "display_name": ".venv",
   "language": "python",
   "name": "python3"
  },
  "language_info": {
   "codemirror_mode": {
    "name": "ipython",
    "version": 3
   },
   "file_extension": ".py",
   "mimetype": "text/x-python",
   "name": "python",
   "nbconvert_exporter": "python",
   "pygments_lexer": "ipython3",
   "version": "3.12.6"
  }
 },
 "nbformat": 4,
 "nbformat_minor": 5
}
